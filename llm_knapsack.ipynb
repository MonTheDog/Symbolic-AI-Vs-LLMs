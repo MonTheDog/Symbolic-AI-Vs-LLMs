{
 "cells": [
  {
   "cell_type": "code",
   "execution_count": 13,
   "metadata": {},
   "outputs": [],
   "source": [
    "import json\n",
    "import sys\n",
    "import os\n",
    "import importlib\n",
    "import re\n",
    "from pydantic import BaseModel"
   ]
  },
  {
   "cell_type": "code",
   "execution_count": 15,
   "metadata": {},
   "outputs": [
    {
     "data": {
      "text/plain": [
       "<module 'utils' from 'c:\\\\Users\\\\paolo\\\\Desktop\\\\Symbolic-AI-Vs-LLMs\\\\utils.py'>"
      ]
     },
     "execution_count": 15,
     "metadata": {},
     "output_type": "execute_result"
    }
   ],
   "source": [
    "importlib.reload(utils)"
   ]
  },
  {
   "cell_type": "code",
   "execution_count": 14,
   "metadata": {},
   "outputs": [],
   "source": [
    "sys.path.append(os.path.abspath(\"C:/Users/paolo/Desktop/Symbolic-AI-Vs-LLMs\"))\n",
    "\n",
    "import utils"
   ]
  },
  {
   "cell_type": "code",
   "execution_count": 4,
   "metadata": {},
   "outputs": [],
   "source": [
    "KNAPSACK_PROMPT_BASE_4O = \"\"\"\n",
    "You have a set of items. Each item has a weight and a value. You have a knapsack that has a maximum capacity. Your goal is to maximize the value of the items you carry in the knapsack without exceeding the maximum capacity (the subset you select should be that with the maximum total value which is less than or equal to the maximum capacity). In the answer, include a string with the reasoning you used to find the solution and a json string with the solution in the form specified below.\n",
    "\n",
    "Items: ###\n",
    "{}\n",
    "###\n",
    "\n",
    "MaximumCapacity: ###\n",
    "{}\n",
    "###\n",
    "\n",
    "Desired format: ###\n",
    "Reasoning: ....\n",
    "\n",
    "Solution: \n",
    "[\n",
    "    {{\n",
    "        \"Name\": \"....\",\n",
    "        \"Weight\": ...,\n",
    "        \"Value\": ...\n",
    "    }},\n",
    "    {{\n",
    "        \"Name\": \"....\",\n",
    "        \"Weight\": ...,\n",
    "        \"Value\": ...\n",
    "    }},\n",
    "    ....\n",
    "]\n",
    "###\n",
    "\"\"\""
   ]
  },
  {
   "cell_type": "code",
   "execution_count": 5,
   "metadata": {},
   "outputs": [],
   "source": [
    "class KnapsackItemSchema(BaseModel):\n",
    "    name: str\n",
    "    weight: int\n",
    "    value: int\n",
    "\n",
    "class KnapsackOutputSchema(BaseModel):\n",
    "    reasoning: str\n",
    "    solution: list[KnapsackItemSchema]\n",
    "\n"
   ]
  },
  {
   "cell_type": "code",
   "execution_count": 16,
   "metadata": {},
   "outputs": [],
   "source": [
    "def knapsack_to_llm_adapter(prompt):\n",
    "    \"\"\"\n",
    "    Input: items of the instance of knapsack problem as defined in /utils.py\n",
    "    Output: prompt formatted with the items converted to a json string and the capacity\n",
    "    \"\"\"\n",
    "    instance = utils.get_knapsack_instance()\n",
    "    return prompt.format(json.dumps(instance[\"items\"]), instance[\"capacity\"])"
   ]
  },
  {
   "cell_type": "code",
   "execution_count": 17,
   "metadata": {},
   "outputs": [],
   "source": [
    "KNAPSACK_4O_CONVERSATION = [\n",
    "    {\"role\": \"system\", \"content\": \"You have to solve the knapsack problem.\"},\n",
    "    {\"role\": \"user\", \"content\": knapsack_to_llm_adapter(KNAPSACK_PROMPT_BASE_4O)}\n",
    "]\n"
   ]
  },
  {
   "cell_type": "code",
   "execution_count": 9,
   "metadata": {},
   "outputs": [
    {
     "name": "stdout",
     "output_type": "stream",
     "text": [
      "reasoning='To solve the knapsack problem with a maximum capacity of 20, I will evaluate different combinations of items to maximize the total value without exceeding the weight limit. I will use a methodical approach to determine the optimal selection of items based on their value-to-weight ratio, ensuring the combined weight does not exceed 20. After testing various combinations, the selection of items that maximizes the total value while remaining within the weight constraint emerges clearly, which includes valuable items with relatively lower weights.' solution=[KnapsackItemSchema(name='Diamond Necklace', weight=2, value=1200), KnapsackItemSchema(name='First Edition Charizard Card', weight=1, value=1500), KnapsackItemSchema(name='Antique Clock', weight=5, value=1200), KnapsackItemSchema(name='Lightsaber Replica', weight=3, value=1200), KnapsackItemSchema(name='Wedding Crown', weight=3, value=2000), KnapsackItemSchema(name='Vault Key', weight=1, value=1000), KnapsackItemSchema(name='Rare Book', weight=2, value=500)]\n"
     ]
    }
   ],
   "source": [
    "client = utils.get_openai_client()\n",
    "response = utils.interrogate_4o(client, \"mini\", KNAPSACK_4O_CONVERSATION, KnapsackOutputSchema)\n",
    "print(response)"
   ]
  },
  {
   "cell_type": "code",
   "execution_count": 18,
   "metadata": {},
   "outputs": [],
   "source": [
    "KNAPSACK_PROMPT_BASE_O1 = \"\"\"\n",
    "You have a set of items. Each item has a weight and a value. You have a knapsack that has a maximum capacity. Your goal is to maximize the value of the items you carry in the knapsack without exceeding the maximum capacity. In the answer, include a json string with the solution in the form specified below. Include only the json string in the form below, without any additional information. \n",
    "\n",
    "Items: ###\n",
    "{}\n",
    "###\n",
    "\n",
    "MaximumCapacity: ###\n",
    "{}\n",
    "###\n",
    "\n",
    "Desired format: ###\n",
    "[\n",
    "    {{\n",
    "        \"Name\": \"....\",\n",
    "        \"Weight\": ...,\n",
    "        \"Value\": ...\n",
    "    }},\n",
    "    {{\n",
    "        \"Name\": \"....\",\n",
    "        \"Weight\": ...,\n",
    "        \"Value\": ...\n",
    "    }},\n",
    "]\n",
    "###\n",
    "\"\"\""
   ]
  },
  {
   "cell_type": "code",
   "execution_count": 19,
   "metadata": {},
   "outputs": [],
   "source": [
    "KNAPSACK_O1_CONVERSATION = [\n",
    "    {\"role\": \"user\", \"content\": knapsack_to_llm_adapter(KNAPSACK_PROMPT_BASE_O1)}\n",
    "]"
   ]
  },
  {
   "cell_type": "code",
   "execution_count": 20,
   "metadata": {},
   "outputs": [],
   "source": [
    "def knapsack_checking_schema(response):\n",
    "    \"\"\"\n",
    "    Boolean function that checks if the response provided by a LLM without the response format feature adheres to the required schema.\n",
    "    Includes a pre-processing step where everything which is not contained in the square brackets is removed.\n",
    "    Such a pre-processing step has been derived from the observation that the LLM sometimes includes additional information in the response.\n",
    "    \n",
    "    If the check is successful, the function returns the response in the correct format.\n",
    "    Otherwise, it returns False.\n",
    "\n",
    "    Input: string response provided by the LLM\n",
    "    \"\"\"\n",
    "    match = re.search(r'(\\[.*\\])', response, re.DOTALL)  #  pre-processing step\n",
    "    if not match:\n",
    "        return False\n",
    "    response = match.group(1)\n",
    "    \n",
    "    try:\n",
    "        response = json.loads(response)\n",
    "    except:\n",
    "        return False\n",
    "    if not isinstance(response, list):\n",
    "        return False\n",
    "    \n",
    "    for item in response:\n",
    "        if not isinstance(item, dict):\n",
    "            return False\n",
    "        if \"Name\" not in item or not isinstance(item[\"Name\"], str):\n",
    "            return False\n",
    "        if \"Weight\" not in item or not isinstance(item[\"Weight\"], (int, float)):\n",
    "            return False\n",
    "        if \"Value\" not in item or not isinstance(item[\"Value\"], (int, float)):\n",
    "            return False\n",
    "         \n",
    "    return response"
   ]
  },
  {
   "cell_type": "code",
   "execution_count": 21,
   "metadata": {},
   "outputs": [
    {
     "name": "stdout",
     "output_type": "stream",
     "text": [
      "[{'Name': 'First Edition Charizard Card', 'Weight': 1, 'Value': 1500}, {'Name': 'Vault Key', 'Weight': 1, 'Value': 1000}, {'Name': 'Wedding Crown', 'Weight': 3, 'Value': 2000}, {'Name': 'Emerald Ring', 'Weight': 1, 'Value': 700}, {'Name': 'Diamond Necklace', 'Weight': 2, 'Value': 1200}, {'Name': \"Pokéball Collector's Edition\", 'Weight': 1, 'Value': 600}, {'Name': 'Lightsaber Replica', 'Weight': 3, 'Value': 1200}, {'Name': 'Designer Sunglasses', 'Weight': 1, 'Value': 400}, {'Name': 'Gold Chain', 'Weight': 2, 'Value': 600}, {'Name': 'Laptop', 'Weight': 3, 'Value': 900}, {'Name': 'Golden Watch', 'Weight': 1, 'Value': 500}]\n"
     ]
    }
   ],
   "source": [
    "client = utils.get_openai_client()\n",
    "response = utils.interrogate_o1(client, \"mini\", KNAPSACK_O1_CONVERSATION, knapsack_checking_schema)\n",
    "print(response)\n"
   ]
  }
 ],
 "metadata": {
  "kernelspec": {
   "display_name": "llm_literature_review2",
   "language": "python",
   "name": "python3"
  },
  "language_info": {
   "codemirror_mode": {
    "name": "ipython",
    "version": 3
   },
   "file_extension": ".py",
   "mimetype": "text/x-python",
   "name": "python",
   "nbconvert_exporter": "python",
   "pygments_lexer": "ipython3",
   "version": "3.12.4"
  }
 },
 "nbformat": 4,
 "nbformat_minor": 2
}
